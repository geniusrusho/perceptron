{
  "cells": [
    {
      "cell_type": "markdown",
      "metadata": {
        "id": "view-in-github",
        "colab_type": "text"
      },
      "source": [
        "<a href=\"https://colab.research.google.com/github/geniusrusho/perceptron/blob/main/Welcome_to_Colaboratory.ipynb\" target=\"_parent\"><img src=\"https://colab.research.google.com/assets/colab-badge.svg\" alt=\"Open In Colab\"/></a>"
      ]
    },
    {
      "cell_type": "code",
      "source": [
        "import os\n",
        "import matplotlib.pyplot as plt\n",
        "import pandas as pd\n",
        "import numpy  as np\n",
        "import seaborn as sns\n",
        "import joblib\n",
        "from matplotlib.colors import ListedColormap\n",
        "\n",
        "plt.style.use(\"fivethirtyeight\")\n"
      ],
      "metadata": {
        "id": "6zt8YmW9kPBV"
      },
      "execution_count": 16,
      "outputs": []
    },
    {
      "cell_type": "code",
      "source": [
        "class Perceptron:\n",
        "   def __init__(self, eta:float=None, epochs: int=None):\n",
        "     self.weights = np.random.randn(3)\n",
        "     training = (eta is not None) and (epochs is not None)\n",
        "     if training:\n",
        "             print(f\"initial weights before training: \\n{self.weights}\")\n",
        "             self.eta = eta\n",
        "             self.epchs = epochs\n",
        "\n",
        "   \n",
        "\n",
        "     def activation_function(self,z):\n",
        "      return np.where(z>0,1,0)\n",
        "\n",
        "      def _z_outcome(self, inputs, weights):\n",
        "        return np.dot(inputs,weights)\n",
        "        self.X = X\n",
        "        self.y = y\n",
        "\n",
        "       \n",
        "       \n",
        "\n",
        "       X_with_bias = np.c_(self.X, -np.ones((len(self.X),1)))\n",
        "       print(f\"X with bias: \\n{X_with_bias}\")\n",
        "\n",
        "       for epoch in range(self.epochs):\n",
        "         print(f\"for epoch >> {epoch}\")\n",
        "         print(f\"error: \\n{self.error}\")\n",
        "\n",
        "         self.weights = self.weights + self.eta*np.dot(X_with_bias.T,self.error)\n",
        "\n",
        "\n",
        "\n",
        "         z = self._z_outcome(X_with_bias, self.weights)\n",
        "         y_hat = self.activation_function(z)\n",
        "         print(f\"predicted value after forward pass:\\n {y_hat}\" )\n",
        "\n",
        "         self.error = self.y-y_hat\n",
        "         print\n",
        "\n",
        "       def fit(self):\n",
        "          pass\n",
        "          def total_loss(self):\n",
        "            pass\n",
        "            def _create_dir_return_path(self):\n",
        "              pass\n",
        "              def save(self):\n",
        "                pass\n",
        "                def load(self):\n",
        "                  pass\n",
        "           "
      ],
      "metadata": {
        "colab": {
          "base_uri": "https://localhost:8080/",
          "height": 133
        },
        "id": "uYyuSNUcla70",
        "outputId": "0582d751-bf8f-4fd0-8f1d-2a1f747cd486"
      },
      "execution_count": 50,
      "outputs": [
        {
          "output_type": "error",
          "ename": "IndentationError",
          "evalue": "ignored",
          "traceback": [
            "\u001b[0;36m  File \u001b[0;32m\"<tokenize>\"\u001b[0;36m, line \u001b[0;32m23\u001b[0m\n\u001b[0;31m    X_with_bias = np.c_(self.X, -np.ones((len(self.X),1)))\u001b[0m\n\u001b[0m    ^\u001b[0m\n\u001b[0;31mIndentationError\u001b[0m\u001b[0;31m:\u001b[0m unindent does not match any outer indentation level\n"
          ]
        }
      ]
    },
    {
      "cell_type": "code",
      "source": [],
      "metadata": {
        "id": "Edj75218vcQ_"
      },
      "execution_count": null,
      "outputs": []
    },
    {
      "cell_type": "code",
      "source": [],
      "metadata": {
        "id": "W_XDEAw-qXsN"
      },
      "execution_count": null,
      "outputs": []
    },
    {
      "cell_type": "code",
      "source": [],
      "metadata": {
        "id": "u5K_iw5Fnzsw"
      },
      "execution_count": null,
      "outputs": []
    }
  ],
  "metadata": {
    "colab": {
      "name": "Welcome to Colaboratory",
      "toc_visible": true,
      "provenance": [],
      "include_colab_link": true
    },
    "kernelspec": {
      "display_name": "Python 3",
      "name": "python3"
    }
  },
  "nbformat": 4,
  "nbformat_minor": 0
}